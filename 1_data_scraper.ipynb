{
 "cells": [
  {
   "cell_type": "code",
   "execution_count": 1,
   "id": "celtic-baghdad",
   "metadata": {},
   "outputs": [],
   "source": [
    "import pandas as pd\n",
    "from datetime import date, timedelta\n",
    "import urllib.request"
   ]
  },
  {
   "cell_type": "code",
   "execution_count": 2,
   "id": "parliamentary-welding",
   "metadata": {},
   "outputs": [
    {
     "name": "stdout",
     "output_type": "stream",
     "text": [
      "['200307', '200314', '200321', '200328', '200404', '200411', '200418', '200425', '200502', '200509', '200516', '200523', '200530', '200606', '200613', '200620', '200627', '200704', '200711', '200718', '200725', '200801', '200808', '200815', '200822', '200829', '200905', '200912', '200919', '200926', '201003', '201010', '201017', '201024', '201031', '201107', '201114', '201121', '201128', '201205', '201212', '201219', '201226', '210102', '210109', '210116', '210123', '210130', '210206', '210213', '210220', '210227', '210306', '210313', '210320', '210327', '210403']\n"
     ]
    }
   ],
   "source": [
    "#get the dates for the files\n",
    "def all_saturdays(year, month_start, month_end):\n",
    "    date_range = []\n",
    "    date_start = date(year, month_start, 1)\n",
    "    date_end = date(year, month_end, 31)\n",
    "    date_start += timedelta(days = 5 - date_start.weekday()) #First Saturday\n",
    "    while date_start <date_end:\n",
    "        date_start += timedelta(weeks=1)\n",
    "        date_range.append(date_start.strftime(\"%y%m%d\"))\n",
    "    return date_range\n",
    "\n",
    "week_nums = []\n",
    "week_nums += all_saturdays(2020, 3, 12)\n",
    "week_nums += all_saturdays(2021, 1, 3)\n",
    "print(week_nums)"
   ]
  },
  {
   "cell_type": "code",
   "execution_count": 3,
   "id": "juvenile-pierce",
   "metadata": {},
   "outputs": [
    {
     "name": "stdout",
     "output_type": "stream",
     "text": [
      "['200328', '200404', '200411', '200418', '200425', '200502', '200509', '200516', '200523', '200530', '200606', '200613', '200620', '200627', '200704', '200711', '200718', '200725', '200801', '200808', '200815', '200822', '200829', '200905', '200912', '200919', '200926', '201003', '201010', '201017', '201024', '201031', '201107', '201114', '201121', '201128', '201205', '201212', '201219', '201226', '210102', '210109', '210116', '210123', '210130', '210206', '210213', '210220', '210227', '210306', '210313', '210320']\n"
     ]
    }
   ],
   "source": [
    "#dropping first 3 date and last 2 dates\n",
    "week_nums = week_nums[3:-2]\n",
    "print(week_nums)"
   ]
  },
  {
   "cell_type": "code",
   "execution_count": 4,
   "id": "single-liechtenstein",
   "metadata": {},
   "outputs": [],
   "source": [
    "#function for retrieving files from the link\n",
    "def get_data(week_nums):\n",
    "    for week_num in week_nums:\n",
    "        urllib.request.urlretrieve(f'http://web.mta.info/developers/data/nyct/turnstile/turnstile_{week_num}.txt',\n",
    "                              f\"data/turnstile_{week_num}.txt\")"
   ]
  },
  {
   "cell_type": "code",
   "execution_count": 5,
   "id": "agreed-reward",
   "metadata": {},
   "outputs": [],
   "source": [
    "#download all the txt files\n",
    "get_data(week_nums)"
   ]
  },
  {
   "cell_type": "code",
   "execution_count": null,
   "id": "southwest-director",
   "metadata": {},
   "outputs": [],
   "source": [
    "# Combine them into one big csv to load into sqlite \n",
    "##Commandline\n",
    "\"\"\"\n",
    " head -1 turnstile_200411.txt > all_combined.csv\n",
    " tail -n +2 -q *.txt >> all_combined.csv\n",
    "\"\"\""
   ]
  },
  {
   "cell_type": "code",
   "execution_count": null,
   "id": "transparent-encoding",
   "metadata": {},
   "outputs": [],
   "source": [
    "# Load csv file into mta.db\n",
    "##Command line\n",
    "\"\"\"\n",
    "sqlite3 mta.db\n",
    ".mode csv\n",
    ".import all_combined.csv mta_data\n",
    "\"\"\""
   ]
  },
  {
   "cell_type": "markdown",
   "id": "offensive-glucose",
   "metadata": {},
   "source": [
    "All MTA turnstile data from the week of 03/28/20 to 03/20/21 are combined and loaded into database mta.db"
   ]
  }
 ],
 "metadata": {
  "kernelspec": {
   "display_name": "Python [conda env:metis] *",
   "language": "python",
   "name": "conda-env-metis-py"
  },
  "language_info": {
   "codemirror_mode": {
    "name": "ipython",
    "version": 3
   },
   "file_extension": ".py",
   "mimetype": "text/x-python",
   "name": "python",
   "nbconvert_exporter": "python",
   "pygments_lexer": "ipython3",
   "version": "3.8.8"
  }
 },
 "nbformat": 4,
 "nbformat_minor": 5
}
